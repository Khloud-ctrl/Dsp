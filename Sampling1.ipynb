from __future__ import division
import matplotlib.pyplot as plt
import numpy as np
from math import pi
plt.style.use('seaborn')
fig,ax = plt.subplots()
f=1.0
f_s=5.0
t = np.arange(-1,1+1/f_s,1/f_s)
x=np.sin(2*pi*f*t)
ax.plot(t,x,'o-')
ax.set_xlabel('Time',fontsize=18,color='maroon')
ax.set_ylabel('Amplitude',fontsize=18,color='maroon')
